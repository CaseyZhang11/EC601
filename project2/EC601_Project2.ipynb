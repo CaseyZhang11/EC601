{
  "nbformat": 4,
  "nbformat_minor": 0,
  "metadata": {
    "colab": {
      "name": "EC601 Project2.ipynb",
      "provenance": [],
      "authorship_tag": "ABX9TyPf3ME6g7LFLIfgi2P1xmGn",
      "include_colab_link": true
    },
    "kernelspec": {
      "name": "python3",
      "display_name": "Python 3"
    }
  },
  "cells": [
    {
      "cell_type": "markdown",
      "metadata": {
        "id": "view-in-github",
        "colab_type": "text"
      },
      "source": [
        "<a href=\"https://colab.research.google.com/github/CaseyZhang11/EC601/blob/master/EC601_Project2.ipynb\" target=\"_parent\"><img src=\"https://colab.research.google.com/assets/colab-badge.svg\" alt=\"Open In Colab\"/></a>"
      ]
    },
    {
      "cell_type": "code",
      "metadata": {
        "id": "y37f_mwBqtqK"
      },
      "source": [
        "!export GOOGLE_APPLICATION_CREDENTIALS=\"/content/tidy-arcade-290903-a589145de641.json\""
      ],
      "execution_count": 2,
      "outputs": []
    },
    {
      "cell_type": "code",
      "metadata": {
        "id": "3nJm8UoNu6Ge",
        "outputId": "fa0553b3-7b9e-4eb8-f20b-839f9acb8357",
        "colab": {
          "base_uri": "https://localhost:8080/",
          "height": 34
        }
      },
      "source": [
        "!gcloud auth activate-service-account --key-file=\"/content/tidy-arcade-290903-a589145de641.json\""
      ],
      "execution_count": 3,
      "outputs": [
        {
          "output_type": "stream",
          "text": [
            "Activated service account credentials for: [project2@tidy-arcade-290903.iam.gserviceaccount.com]\n"
          ],
          "name": "stdout"
        }
      ]
    },
    {
      "cell_type": "code",
      "metadata": {
        "id": "MOaWWJgK65r9"
      },
      "source": [
        "import os"
      ],
      "execution_count": 6,
      "outputs": []
    },
    {
      "cell_type": "code",
      "metadata": {
        "id": "MwKsdRmu64DL"
      },
      "source": [
        "os.environ[\"GOOGLE_APPLICATION_CREDENTIALS\"]=\"/content/tidy-arcade-290903-a589145de641.json\" "
      ],
      "execution_count": 7,
      "outputs": []
    },
    {
      "cell_type": "code",
      "metadata": {
        "id": "wMBumfj4tZRQ"
      },
      "source": [
        "from google.oauth2 import service_account\n",
        "\n",
        "credentials = service_account.Credentials.from_service_account_file('My Project 30963-4186ddea0f9c.json')"
      ],
      "execution_count": null,
      "outputs": []
    },
    {
      "cell_type": "code",
      "metadata": {
        "id": "GZGSjTvhlM6b"
      },
      "source": [
        "from google.cloud import language\n",
        "from google.cloud.language import enums, types\n",
        "\n",
        "\n",
        "def analyze_text_sentiment(text):\n",
        "    client = language.LanguageServiceClient()\n",
        "    document = types.Document(\n",
        "        content=text,\n",
        "        type=enums.Document.Type.PLAIN_TEXT)\n",
        "\n",
        "    response = client.analyze_sentiment(document=document)\n",
        "\n",
        "    sentiment = response.document_sentiment\n",
        "    results = [\n",
        "        ('text', text),\n",
        "        ('score', sentiment.score),\n",
        "        ('magnitude', sentiment.magnitude),\n",
        "    ]\n",
        "    for k, v in results:\n",
        "        print('{:10}: {}'.format(k, v))"
      ],
      "execution_count": 8,
      "outputs": []
    },
    {
      "cell_type": "code",
      "metadata": {
        "id": "rNMVKwMcpuBQ",
        "outputId": "ebaa65e0-306c-4ca1-f462-1f50d3f5ffd0",
        "colab": {
          "base_uri": "https://localhost:8080/",
          "height": 68
        }
      },
      "source": [
        "text1 = 'I am sad today because I have a lot of homework!'\n",
        "analyze_text_sentiment(text1)"
      ],
      "execution_count": 10,
      "outputs": [
        {
          "output_type": "stream",
          "text": [
            "text      : I am sad today because I have a lot of homework!\n",
            "score     : -0.800000011920929\n",
            "magnitude : 0.800000011920929\n"
          ],
          "name": "stdout"
        }
      ]
    },
    {
      "cell_type": "code",
      "metadata": {
        "id": "mrRGFk0H7T_1",
        "outputId": "c44df652-612d-4ab5-ef7b-aa49cb0ea04e",
        "colab": {
          "base_uri": "https://localhost:8080/",
          "height": 68
        }
      },
      "source": [
        "text2 = 'I want to go to the beach'\n",
        "analyze_text_sentiment(text2)"
      ],
      "execution_count": 11,
      "outputs": [
        {
          "output_type": "stream",
          "text": [
            "text      : I want to go to the beach\n",
            "score     : 0.20000000298023224\n",
            "magnitude : 0.20000000298023224\n"
          ],
          "name": "stdout"
        }
      ]
    },
    {
      "cell_type": "code",
      "metadata": {
        "id": "DYL7KaJT7asi",
        "outputId": "a4c17986-ee33-4852-c9f5-185de1da2431",
        "colab": {
          "base_uri": "https://localhost:8080/",
          "height": 68
        }
      },
      "source": [
        "text3 = 'The moon is beautiful'\n",
        "analyze_text_sentiment(text3)"
      ],
      "execution_count": 12,
      "outputs": [
        {
          "output_type": "stream",
          "text": [
            "text      : The moon is beautiful\n",
            "score     : 0.8999999761581421\n",
            "magnitude : 0.8999999761581421\n"
          ],
          "name": "stdout"
        }
      ]
    },
    {
      "cell_type": "code",
      "metadata": {
        "id": "6cWltwvS7o_z",
        "outputId": "1fd480ca-982c-436c-f84d-1d125eaa9e98",
        "colab": {
          "base_uri": "https://localhost:8080/",
          "height": 68
        }
      },
      "source": [
        "text4 = 'When do you want to eat'\n",
        "analyze_text_sentiment(text4)"
      ],
      "execution_count": 13,
      "outputs": [
        {
          "output_type": "stream",
          "text": [
            "text      : When do you want to eat\n",
            "score     : -0.10000000149011612\n",
            "magnitude : 0.10000000149011612\n"
          ],
          "name": "stdout"
        }
      ]
    },
    {
      "cell_type": "code",
      "metadata": {
        "id": "K5qtZp2r7v7j",
        "outputId": "f257fd5c-bc15-41b1-f109-9a8bed64a934",
        "colab": {
          "base_uri": "https://localhost:8080/",
          "height": 68
        }
      },
      "source": [
        "text5 = 'I have a job offer'\n",
        "analyze_text_sentiment(text5)"
      ],
      "execution_count": 14,
      "outputs": [
        {
          "output_type": "stream",
          "text": [
            "text      : I have a job offer\n",
            "score     : 0.0\n",
            "magnitude : 0.0\n"
          ],
          "name": "stdout"
        }
      ]
    },
    {
      "cell_type": "code",
      "metadata": {
        "id": "S7P8lHxl76Mz",
        "outputId": "89c3deb5-4a69-4b69-c500-34da26c337e1",
        "colab": {
          "base_uri": "https://localhost:8080/",
          "height": 68
        }
      },
      "source": [
        "text6 = 'I want to cook steak for dinner'\n",
        "analyze_text_sentiment(text6)"
      ],
      "execution_count": 15,
      "outputs": [
        {
          "output_type": "stream",
          "text": [
            "text      : I want to cook steak for dinner\n",
            "score     : 0.20000000298023224\n",
            "magnitude : 0.20000000298023224\n"
          ],
          "name": "stdout"
        }
      ]
    }
  ]
}
