{
  "nbformat": 4,
  "nbformat_minor": 0,
  "metadata": {
    "colab": {
      "name": "Untitled11.ipynb",
      "provenance": []
    },
    "kernelspec": {
      "name": "python3",
      "display_name": "Python 3"
    }
  },
  "cells": [
    {
      "cell_type": "code",
      "metadata": {
        "id": "VMkURuU1qTQZ"
      },
      "source": [
        "twitter_credentials = {}\n",
        "twitter_credentials['CONSUMER_KEY'] = 'Oscw5gzr9MnZ9knuZ1ZYasjmf'\n",
        "twitter_credentials['CONSUMER_SECRET'] = '7FM1qtiYy3PFXbAgc7ao9OvtAPNgYB5mxHBUUB5INxXfVl6Khv'\n",
        "twitter_credentials['ACCESS_TOKEN'] = '1051661308645531649-1Jev6lcJeEhB1kQgqUC53PMWBzSGx6'\n",
        "twitter_credentials['ACCESS_SECRET'] = '61N7BRULS0BZ3QiaFgS6Dvg4yewO32vFA2zkdoivStQXJ'"
      ],
      "execution_count": 25,
      "outputs": []
    },
    {
      "cell_type": "code",
      "metadata": {
        "id": "9R4vDkI1J0Zp"
      },
      "source": [
        "!pip install twitter"
      ],
      "execution_count": null,
      "outputs": []
    },
    {
      "cell_type": "code",
      "metadata": {
        "id": "wHCQp04sKBt8"
      },
      "source": [
        "import twitter"
      ],
      "execution_count": 21,
      "outputs": []
    },
    {
      "cell_type": "code",
      "metadata": {
        "id": "FdJ4MazqNNFc"
      },
      "source": [
        "from tweepy.streaming import StreamListener\n",
        "from tweepy import OAuthHandler\n",
        "from tweepy import Stream\n",
        " "
      ],
      "execution_count": 22,
      "outputs": []
    },
    {
      "cell_type": "code",
      "metadata": {
        "id": "pNhKi7EUkxGI"
      },
      "source": [
        "class TwitterStreamer():\n",
        "    \"\"\"\n",
        "    Class for streaming and processing live tweets.\n",
        "    \"\"\"\n",
        "    def __init__(self):\n",
        "        pass\n",
        "\n",
        "    def stream_tweets(self, fetched_tweets_filename, hash_tag_list):\n",
        "        # This handles Twitter authetification and the connection to Twitter Streaming API\n",
        "        listener = StdOutListener(fetched_tweets_filename)\n",
        "        auth = OAuthHandler(twitter_credentials['CONSUMER_KEY'], twitter_credentials['CONSUMER_SECRET'])\n",
        "        auth.set_access_token(twitter_credentials['ACCESS_TOKEN'], twitter_credentials['ACCESS_SECRET'])\n",
        "        stream = Stream(auth, listener)\n",
        "\n",
        "        # This line filter Twitter Streams to capture data by the keywords: \n",
        "        stream.filter(track=hash_tag_list)\n",
        "\n",
        "\n",
        "# # # # TWITTER STREAM LISTENER # # # #\n",
        "class StdOutListener(StreamListener):\n",
        "    \"\"\"\n",
        "    This is a basic listener that just prints received tweets to stdout.\n",
        "    \"\"\"\n",
        "    def __init__(self, fetched_tweets_filename):\n",
        "        self.fetched_tweets_filename = fetched_tweets_filename\n",
        "\n",
        "    def on_data(self, data):\n",
        "        try:\n",
        "            print(data)\n",
        "            with open(self.fetched_tweets_filename, 'a') as tf:\n",
        "                tf.write(data)\n",
        "            return True\n",
        "        except BaseException as e:\n",
        "            print(\"Error on_data %s\" % str(e))\n",
        "        return True\n",
        "          \n",
        "\n",
        "    def on_error(self, status):\n",
        "        print(status)\n",
        "\n",
        " \n",
        "if __name__ == '__main__':\n",
        " \n",
        "    # Authenticate using config.py and connect to Twitter Streaming API.\n",
        "    hash_tag_list = [\"Donald Trump\", \"walter reed\"]\n",
        "    fetched_tweets_filename = \"tweets.txt\"\n",
        "\n",
        "    twitter_streamer = TwitterStreamer()\n",
        "    twitter_streamer.stream_tweets(fetched_tweets_filename, hash_tag_list)\n"
      ],
      "execution_count": null,
      "outputs": []
    }
  ]
}
